{
 "cells": [
  {
   "cell_type": "code",
   "execution_count": 5,
   "id": "5513a1fb",
   "metadata": {},
   "outputs": [],
   "source": [
    "import pandas as pd\n",
    "import numpy as np\n",
    "from sklearn.model_selection import train_test_split\n",
    "from sklearn.preprocessing import StandardScaler\n",
    "from sklearn.ensemble import RandomForestClassifier\n",
    "from xgboost import XGBClassifier\n",
    "from lightgbm import LGBMClassifier\n",
    "from sklearn.metrics import roc_auc_score, classification_report\n",
    "import mlflow\n",
    "import mlflow.sklearn"
   ]
  },
  {
   "cell_type": "code",
   "execution_count": 6,
   "id": "4194b412",
   "metadata": {},
   "outputs": [
    {
     "name": "stdout",
     "output_type": "stream",
     "text": [
      "Features: 32\n",
      "Samples: 7043\n"
     ]
    }
   ],
   "source": [
    "df = pd.read_csv('../data/processed/churn_engineered.csv')\n",
    "X = df.drop('Churn', axis=1)\n",
    "y = df['Churn'].map({'Yes': 1, 'No': 0})\n",
    "\n",
    "print(f\"Features: {X.shape[1]}\")\n",
    "print(f\"Samples: {len(X)}\")"
   ]
  },
  {
   "cell_type": "code",
   "execution_count": 9,
   "id": "ffaead1b",
   "metadata": {},
   "outputs": [
    {
     "name": "stdout",
     "output_type": "stream",
     "text": [
      "✅ Train samples: 5634 | Test samples: 1409\n",
      "✅ Features after encoding: 6573\n"
     ]
    }
   ],
   "source": [
    "from sklearn.preprocessing import LabelEncoder\n",
    "\n",
    "# Drop ID column if exists\n",
    "X = df.drop(['customerID', 'Churn'], axis=1, errors='ignore')\n",
    "\n",
    "# Automatically convert categorical to numeric (One-Hot Encoding)\n",
    "X = pd.get_dummies(X, drop_first=True)\n",
    "\n",
    "# Encode target\n",
    "y = df['Churn'].map({'Yes': 1, 'No': 0})\n",
    "\n",
    "# Split data\n",
    "from sklearn.model_selection import train_test_split\n",
    "X_train, X_test, y_train, y_test = train_test_split(\n",
    "    X, y, test_size=0.2, random_state=42, stratify=y\n",
    ")\n",
    "\n",
    "# Scale numeric features\n",
    "from sklearn.preprocessing import StandardScaler\n",
    "scaler = StandardScaler()\n",
    "X_train_scaled = scaler.fit_transform(X_train)\n",
    "X_test_scaled = scaler.transform(X_test)\n",
    "\n",
    "print(f\"✅ Train samples: {len(X_train)} | Test samples: {len(X_test)}\")\n",
    "print(f\"✅ Features after encoding: {X.shape[1]}\")\n"
   ]
  },
  {
   "cell_type": "code",
   "execution_count": 11,
   "id": "31c6bf91",
   "metadata": {},
   "outputs": [
    {
     "name": "stdout",
     "output_type": "stream",
     "text": [
      "\n",
      "🌲 Training Random Forest...\n",
      "Random Forest ROC-AUC: 0.8398\n",
      "              precision    recall  f1-score   support\n",
      "\n",
      "           0       0.79      0.97      0.87      1035\n",
      "           1       0.77      0.28      0.41       374\n",
      "\n",
      "    accuracy                           0.79      1409\n",
      "   macro avg       0.78      0.62      0.64      1409\n",
      "weighted avg       0.78      0.79      0.75      1409\n",
      "\n"
     ]
    }
   ],
   "source": [
    "print(\"\\n🌲 Training Random Forest...\")\n",
    "rf_model = RandomForestClassifier(\n",
    "    n_estimators=200,\n",
    "    max_depth=10,\n",
    "    random_state=42,\n",
    "    n_jobs=-1\n",
    ")\n",
    "rf_model.fit(X_train_scaled, y_train)\n",
    "\n",
    "rf_pred = rf_model.predict(X_test_scaled)\n",
    "rf_proba = rf_model.predict_proba(X_test_scaled)[:, 1]\n",
    "rf_auc = roc_auc_score(y_test, rf_proba)\n",
    "\n",
    "print(f\"Random Forest ROC-AUC: {rf_auc:.4f}\")\n",
    "print(classification_report(y_test, rf_pred))"
   ]
  },
  {
   "cell_type": "code",
   "execution_count": 12,
   "id": "dd7affc2",
   "metadata": {},
   "outputs": [
    {
     "name": "stdout",
     "output_type": "stream",
     "text": [
      "\n",
      "⚡ Training XGBoost...\n",
      "XGBoost ROC-AUC: 0.8293\n",
      "              precision    recall  f1-score   support\n",
      "\n",
      "           0       0.84      0.89      0.86      1035\n",
      "           1       0.63      0.52      0.57       374\n",
      "\n",
      "    accuracy                           0.79      1409\n",
      "   macro avg       0.74      0.71      0.72      1409\n",
      "weighted avg       0.78      0.79      0.79      1409\n",
      "\n"
     ]
    }
   ],
   "source": [
    "print(\"\\n⚡ Training XGBoost...\")\n",
    "xgb_model = XGBClassifier(\n",
    "    n_estimators=200,\n",
    "    max_depth=6,\n",
    "    learning_rate=0.1,\n",
    "    random_state=42,\n",
    "    use_label_encoder=False,\n",
    "    eval_metric='auc'\n",
    ")\n",
    "xgb_model.fit(X_train_scaled, y_train)\n",
    "\n",
    "xgb_pred = xgb_model.predict(X_test_scaled)\n",
    "xgb_proba = xgb_model.predict_proba(X_test_scaled)[:, 1]\n",
    "xgb_auc = roc_auc_score(y_test, xgb_proba)\n",
    "\n",
    "print(f\"XGBoost ROC-AUC: {xgb_auc:.4f}\")\n",
    "print(classification_report(y_test, xgb_pred))"
   ]
  },
  {
   "cell_type": "code",
   "execution_count": 13,
   "id": "ff7ad30c",
   "metadata": {},
   "outputs": [
    {
     "name": "stdout",
     "output_type": "stream",
     "text": [
      "\n",
      "💡 Training LightGBM...\n",
      "LightGBM ROC-AUC: 0.8269\n",
      "              precision    recall  f1-score   support\n",
      "\n",
      "           0       0.83      0.88      0.86      1035\n",
      "           1       0.62      0.51      0.56       374\n",
      "\n",
      "    accuracy                           0.79      1409\n",
      "   macro avg       0.72      0.70      0.71      1409\n",
      "weighted avg       0.78      0.79      0.78      1409\n",
      "\n"
     ]
    }
   ],
   "source": [
    "print(\"\\n💡 Training LightGBM...\")\n",
    "lgbm_model = LGBMClassifier(\n",
    "    n_estimators=200,\n",
    "    max_depth=6,\n",
    "    learning_rate=0.1,\n",
    "    random_state=42,\n",
    "    verbose=-1\n",
    ")\n",
    "lgbm_model.fit(X_train_scaled, y_train)\n",
    "\n",
    "lgbm_pred = lgbm_model.predict(X_test_scaled)\n",
    "lgbm_proba = lgbm_model.predict_proba(X_test_scaled)[:, 1]\n",
    "lgbm_auc = roc_auc_score(y_test, lgbm_proba)\n",
    "\n",
    "print(f\"LightGBM ROC-AUC: {lgbm_auc:.4f}\")\n",
    "print(classification_report(y_test, lgbm_pred))"
   ]
  },
  {
   "cell_type": "code",
   "execution_count": 14,
   "id": "44838d0b",
   "metadata": {},
   "outputs": [
    {
     "name": "stdout",
     "output_type": "stream",
     "text": [
      "\n",
      "📊 Model Comparison:\n",
      "           Model   ROC-AUC\n",
      "0  Random Forest  0.839775\n",
      "1        XGBoost  0.829327\n",
      "2       LightGBM  0.826914\n"
     ]
    }
   ],
   "source": [
    "results = pd.DataFrame({\n",
    "    'Model': ['Random Forest', 'XGBoost', 'LightGBM'],\n",
    "    'ROC-AUC': [rf_auc, xgb_auc, lgbm_auc]\n",
    "}).sort_values('ROC-AUC', ascending=False)\n",
    "\n",
    "print(\"\\n📊 Model Comparison:\")\n",
    "print(results)"
   ]
  },
  {
   "cell_type": "code",
   "execution_count": 15,
   "id": "bcaeba10",
   "metadata": {},
   "outputs": [
    {
     "data": {
      "image/png": "[encoded data removed]",
      "text/plain": [
       "<Figure size 1000x600 with 1 Axes>"
      ]
     },
     "metadata": {},
     "output_type": "display_data"
    }
   ],
   "source": [
    "import matplotlib.pyplot as plt\n",
    "plt.figure(figsize=(10, 6))\n",
    "plt.bar(results['Model'], results['ROC-AUC'], color=['#2ecc71', '#3498db', '#e74c3c'])\n",
    "plt.title('Model Performance Comparison', fontsize=16, fontweight='bold')\n",
    "plt.ylabel('ROC-AUC Score')\n",
    "plt.ylim(0.8, 1.0)\n",
    "for i, v in enumerate(results['ROC-AUC']):\n",
    "    plt.text(i, v + 0.01, f'{v:.4f}', ha='center', fontweight='bold')\n",
    "plt.tight_layout()\n",
    "plt.show()"
   ]
  },
  {
   "cell_type": "code",
   "execution_count": 16,
   "id": "e517b7e7",
   "metadata": {},
   "outputs": [
    {
     "name": "stdout",
     "output_type": "stream",
     "text": [
      "✅ Best model saved!\n"
     ]
    }
   ],
   "source": [
    "import joblib\n",
    "best_model = xgb_model if xgb_auc == max(rf_auc, xgb_auc, lgbm_auc) else \\\n",
    "             (lgbm_model if lgbm_auc > rf_auc else rf_model)\n",
    "\n",
    "joblib.dump(best_model, '../models/best_model.pkl')\n",
    "joblib.dump(scaler, '../models/scaler.pkl')\n",
    "print(\"✅ Best model saved!\")"
   ]
  },
  {
   "cell_type": "code",
   "execution_count": null,
   "id": "3c4c4d83",
   "metadata": {},
   "outputs": [],
   "source": []
  }
 ],
 "metadata": {
  "kernelspec": {
   "display_name": "venv",
   "language": "python",
   "name": "python3"
  },
  "language_info": {
   "codemirror_mode": {
    "name": "ipython",
    "version": 3
   },
   "file_extension": ".py",
   "mimetype": "text/x-python",
   "name": "python",
   "nbconvert_exporter": "python",
   "pygments_lexer": "ipython3",
   "version": "3.10.11"
  }
 },
 "nbformat": 4,
 "nbformat_minor": 5
}

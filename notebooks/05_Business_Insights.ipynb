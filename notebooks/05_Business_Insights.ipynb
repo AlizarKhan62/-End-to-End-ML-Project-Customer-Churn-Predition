{
 "cells": [
  {
   "cell_type": "code",
   "execution_count": 1,
   "id": "152f68f2",
   "metadata": {},
   "outputs": [
    {
     "name": "stdout",
     "output_type": "stream",
     "text": [
      "📦 Loading model and data...\n",
      "✅ Features aligned: 6573\n",
      "✅ Samples: 7043\n",
      "✅ predictions.csv generated successfully!\n",
      "  customer_id  churn_prediction  churn_probability risk_level  \\\n",
      "0  7590-VHVEG                 0           0.478813     Medium   \n",
      "1  5575-GNVDE                 0           0.174492        Low   \n",
      "2  3668-QPYBK                 0           0.421918     Medium   \n",
      "3  7795-CFOCW                 0           0.158120        Low   \n",
      "4  9237-HQITU                 1           0.522649     Medium   \n",
      "\n",
      "   monthly_charges   contract_type  \n",
      "0            29.85  Month-to-month  \n",
      "1            56.95        One year  \n",
      "2            53.85  Month-to-month  \n",
      "3            42.30        One year  \n",
      "4            70.70  Month-to-month  \n"
     ]
    }
   ],
   "source": [
    "# ======================================================================\n",
    "# NOTEBOOK 04A: Generate Model Predictions\n",
    "# File: notebooks/04a_Generate_Predictions.ipynb\n",
    "# ======================================================================\n",
    "\n",
    "import pandas as pd\n",
    "import numpy as np\n",
    "import joblib\n",
    "import os\n",
    "\n",
    "print(\"📦 Loading model and data...\")\n",
    "\n",
    "# Load trained components\n",
    "model = joblib.load(\"../models/best_model.pkl\")\n",
    "scaler = joblib.load(\"../models/scaler.pkl\")\n",
    "training_columns = joblib.load(\"../models/training_columns.pkl\")\n",
    "\n",
    "# Load processed dataset\n",
    "df = pd.read_csv(\"../data/processed/churn_engineered.csv\")\n",
    "\n",
    "# Drop unneeded ID column\n",
    "if \"customerID\" in df.columns:\n",
    "    customer_ids = df[\"customerID\"]\n",
    "    df = df.drop(\"customerID\", axis=1)\n",
    "else:\n",
    "    customer_ids = pd.Series(range(len(df)))\n",
    "\n",
    "# Separate features and target\n",
    "y = df[\"Churn\"].map({\"Yes\": 1, \"No\": 0}) if \"Churn\" in df.columns else None\n",
    "X = df.drop(\"Churn\", axis=1, errors=\"ignore\")\n",
    "\n",
    "# One-hot encode and align\n",
    "X = pd.get_dummies(X, drop_first=True)\n",
    "X = X.reindex(columns=training_columns, fill_value=0)\n",
    "\n",
    "# Scale\n",
    "X_scaled = scaler.transform(X)\n",
    "\n",
    "print(f\"✅ Features aligned: {X.shape[1]}\")\n",
    "print(f\"✅ Samples: {len(X)}\")\n",
    "\n",
    "# Predict churn probabilities\n",
    "y_pred_proba = model.predict_proba(X_scaled)[:, 1]\n",
    "y_pred = (y_pred_proba >= 0.5).astype(int)\n",
    "\n",
    "# Map probabilities to risk levels\n",
    "def risk_label(p):\n",
    "    if p >= 0.7:\n",
    "        return \"High\"\n",
    "    elif p >= 0.4:\n",
    "        return \"Medium\"\n",
    "    else:\n",
    "        return \"Low\"\n",
    "\n",
    "predictions = pd.DataFrame({\n",
    "    \"customer_id\": customer_ids,\n",
    "    \"churn_prediction\": y_pred,\n",
    "    \"churn_probability\": y_pred_proba,\n",
    "    \"risk_level\": [risk_label(p) for p in y_pred_proba],\n",
    "    \"monthly_charges\": df[\"MonthlyCharges\"],\n",
    "    \"contract_type\": df[\"Contract\"] if \"Contract\" in df.columns else \"Unknown\"\n",
    "})\n",
    "\n",
    "# Ensure directory exists\n",
    "os.makedirs(\"../data/predictions\", exist_ok=True)\n",
    "\n",
    "# Save file\n",
    "predictions.to_csv(\"../data/predictions/predictions.csv\", index=False)\n",
    "print(\"✅ predictions.csv generated successfully!\")\n",
    "\n",
    "print(predictions.head())\n"
   ]
  },
  {
   "cell_type": "code",
   "execution_count": 2,
   "id": "beffbad6",
   "metadata": {},
   "outputs": [],
   "source": [
    "import pandas as pd\n",
    "import numpy as np\n",
    "import matplotlib.pyplot as plt\n",
    "import seaborn as sns"
   ]
  },
  {
   "cell_type": "code",
   "execution_count": 3,
   "id": "131c463a",
   "metadata": {},
   "outputs": [
    {
     "name": "stdout",
     "output_type": "stream",
     "text": [
      "Total predictions: 7043\n"
     ]
    }
   ],
   "source": [
    "predictions = pd.read_csv('../data/predictions/predictions.csv')\n",
    "print(f\"Total predictions: {len(predictions)}\")"
   ]
  },
  {
   "cell_type": "code",
   "execution_count": 4,
   "id": "6aa8bfde",
   "metadata": {},
   "outputs": [
    {
     "name": "stdout",
     "output_type": "stream",
     "text": [
      "\n",
      "🎯 Risk Distribution:\n",
      "risk_level\n",
      "Low       5581\n",
      "Medium    1462\n",
      "Name: count, dtype: int64\n"
     ]
    },
    {
     "data": {
      "image/png": "[encoded data removed]",
      "text/plain": [
       "<Figure size 800x600 with 1 Axes>"
      ]
     },
     "metadata": {},
     "output_type": "display_data"
    }
   ],
   "source": [
    "risk_distribution = predictions['risk_level'].value_counts()\n",
    "print(\"\\n🎯 Risk Distribution:\")\n",
    "print(risk_distribution)\n",
    "\n",
    "plt.figure(figsize=(8, 6))\n",
    "risk_distribution.plot(kind='pie', autopct='%1.1f%%', \n",
    "                       colors=['#2ecc71', '#f39c12', '#e74c3c'])\n",
    "plt.title('Customer Risk Distribution')\n",
    "plt.ylabel('')\n",
    "plt.show()\n"
   ]
  },
  {
   "cell_type": "code",
   "execution_count": 5,
   "id": "c730a7c7",
   "metadata": {},
   "outputs": [
    {
     "name": "stdout",
     "output_type": "stream",
     "text": [
      "\n",
      "💰 Financial Impact:\n",
      "   High-risk customers: 0\n",
      "   Average monthly charges: $64.76\n",
      "   Annual revenue at risk: $0.00\n"
     ]
    }
   ],
   "source": [
    "avg_monthly_charges = predictions['monthly_charges'].mean()\n",
    "high_risk_customers = len(predictions[predictions['risk_level'] == 'High'])\n",
    "revenue_at_risk = high_risk_customers * avg_monthly_charges * 12\n",
    "\n",
    "print(f\"\\n💰 Financial Impact:\")\n",
    "print(f\"   High-risk customers: {high_risk_customers:,}\")\n",
    "print(f\"   Average monthly charges: ${avg_monthly_charges:.2f}\")\n",
    "print(f\"   Annual revenue at risk: ${revenue_at_risk:,.2f}\")"
   ]
  },
  {
   "cell_type": "code",
   "execution_count": 6,
   "id": "89e4065f",
   "metadata": {},
   "outputs": [
    {
     "name": "stdout",
     "output_type": "stream",
     "text": [
      "\n",
      "📊 Churn by Contract Type:\n",
      "                Churn_Rate  Customer_Count\n",
      "contract_type                             \n",
      "Month-to-month      0.1623            3875\n",
      "One year            0.0000            1473\n",
      "Two year            0.0000            1695\n"
     ]
    },
    {
     "data": {
      "image/png": "[encoded data removed]",
      "text/plain": [
       "<Figure size 1000x600 with 1 Axes>"
      ]
     },
     "metadata": {},
     "output_type": "display_data"
    }
   ],
   "source": [
    "churn_by_contract = predictions.groupby('contract_type').agg({\n",
    "    'churn_prediction': 'mean',\n",
    "    'customer_id': 'count'\n",
    "}).round(4)\n",
    "churn_by_contract.columns = ['Churn_Rate', 'Customer_Count']\n",
    "\n",
    "print(\"\\n📊 Churn by Contract Type:\")\n",
    "print(churn_by_contract)\n",
    "\n",
    "plt.figure(figsize=(10, 6))\n",
    "churn_by_contract['Churn_Rate'].plot(kind='bar', color='steelblue')\n",
    "plt.title('Churn Rate by Contract Type')\n",
    "plt.ylabel('Churn Rate')\n",
    "plt.xlabel('Contract Type')\n",
    "plt.xticks(rotation=45)\n",
    "plt.tight_layout()\n",
    "plt.show()"
   ]
  },
  {
   "cell_type": "code",
   "execution_count": 7,
   "id": "e23136a6",
   "metadata": {},
   "outputs": [
    {
     "name": "stdout",
     "output_type": "stream",
     "text": [
      "\n",
      "📈 ROI Analysis:\n",
      "   Customers targeted: 0\n",
      "   Expected customers saved: 0\n",
      "   Revenue saved: $0.00\n",
      "   Campaign cost: $0.00\n",
      "   ROI: nan%\n"
     ]
    },
    {
     "name": "stderr",
     "output_type": "stream",
     "text": [
      "C:\\Users\\Admin\\AppData\\Local\\Temp\\ipykernel_18512\\1264801819.py:7: RuntimeWarning: invalid value encountered in scalar divide\n",
      "  roi = ((revenue_saved - campaign_cost) / campaign_cost) * 100\n"
     ]
    }
   ],
   "source": [
    "retention_success_rate = 0.60  # 60% retention through intervention\n",
    "campaign_cost_per_customer = 50\n",
    "\n",
    "customers_saved = high_risk_customers * retention_success_rate\n",
    "revenue_saved = customers_saved * avg_monthly_charges * 12\n",
    "campaign_cost = high_risk_customers * campaign_cost_per_customer\n",
    "roi = ((revenue_saved - campaign_cost) / campaign_cost) * 100\n",
    "\n",
    "print(f\"\\n📈 ROI Analysis:\")\n",
    "print(f\"   Customers targeted: {high_risk_customers:,}\")\n",
    "print(f\"   Expected customers saved: {int(customers_saved):,}\")\n",
    "print(f\"   Revenue saved: ${revenue_saved:,.2f}\")\n",
    "print(f\"   Campaign cost: ${campaign_cost:,.2f}\")\n",
    "print(f\"   ROI: {roi:.2f}%\")"
   ]
  },
  {
   "cell_type": "code",
   "execution_count": 9,
   "id": "368f5e8a",
   "metadata": {},
   "outputs": [
    {
     "name": "stdout",
     "output_type": "stream",
     "text": [
      "\n",
      "# 🎯 Key Business Recommendations\n",
      "\n",
      "## 1. High Priority Actions\n",
      "- **Target 0 high-risk customers** with retention campaigns\n",
      "- **Potential savings: $0.00** annually\n",
      "- **Expected ROI: nan%**\n",
      "\n",
      "## 2. Contract Optimization\n",
      "- Incentivize month-to-month customers to upgrade to annual contracts\n",
      "- Offer loyalty discounts (15-20%) for high-risk long-term contracts\n",
      "\n",
      "## 3. Service Improvements\n",
      "- Enhance tech support for high-churn segments\n",
      "- Bundle services to increase customer stickiness\n",
      "- Improve online security offerings\n",
      "\n",
      "## 4. Proactive Monitoring\n",
      "- Weekly review of high-risk customer list\n",
      "- Automated alerts for churn probability > 0.7\n",
      "- Regular A/B testing of retention strategies\n",
      "\n",
      "## 5. Customer Success Programs\n",
      "- Dedicated account managers for high-value customers\n",
      "- Quarterly satisfaction surveys\n",
      "- Early warning system for service degradation\n",
      "\n",
      "\n",
      "✅ Recommendations saved to docs/business_recommendations.md\n"
     ]
    }
   ],
   "source": [
    "recommendations = f\"\"\"\n",
    "# 🎯 Key Business Recommendations\n",
    "\n",
    "## 1. High Priority Actions\n",
    "- **Target {high_risk_customers} high-risk customers** with retention campaigns\n",
    "- **Potential savings: ${revenue_saved:,.2f}** annually\n",
    "- **Expected ROI: {roi:.1f}%**\n",
    "\n",
    "## 2. Contract Optimization\n",
    "- Incentivize month-to-month customers to upgrade to annual contracts\n",
    "- Offer loyalty discounts (15-20%) for high-risk long-term contracts\n",
    "\n",
    "## 3. Service Improvements\n",
    "- Enhance tech support for high-churn segments\n",
    "- Bundle services to increase customer stickiness\n",
    "- Improve online security offerings\n",
    "\n",
    "## 4. Proactive Monitoring\n",
    "- Weekly review of high-risk customer list\n",
    "- Automated alerts for churn probability > 0.7\n",
    "- Regular A/B testing of retention strategies\n",
    "\n",
    "## 5. Customer Success Programs\n",
    "- Dedicated account managers for high-value customers\n",
    "- Quarterly satisfaction surveys\n",
    "- Early warning system for service degradation\n",
    "\"\"\"\n",
    "\n",
    "print(recommendations)\n",
    "\n",
    "# with open('../docs/business_recommendations.md', 'w') as f:\n",
    "with open('../docs/business_recommendations.md', 'w', encoding='utf-8') as f:\n",
    "\n",
    "    f.write(recommendations)\n",
    "\n",
    "print(\"\\n✅ Recommendations saved to docs/business_recommendations.md\")"
   ]
  },
  {
   "cell_type": "code",
   "execution_count": null,
   "id": "aeea9a99",
   "metadata": {},
   "outputs": [],
   "source": []
  }
 ],
 "metadata": {
  "kernelspec": {
   "display_name": "venv",
   "language": "python",
   "name": "python3"
  },
  "language_info": {
   "codemirror_mode": {
    "name": "ipython",
    "version": 3
   },
   "file_extension": ".py",
   "mimetype": "text/x-python",
   "name": "python",
   "nbconvert_exporter": "python",
   "pygments_lexer": "ipython3",
   "version": "3.10.11"
  }
 },
 "nbformat": 4,
 "nbformat_minor": 5
}
